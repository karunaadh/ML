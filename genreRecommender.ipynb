{
  "nbformat": 4,
  "nbformat_minor": 0,
  "metadata": {
    "colab": {
      "provenance": [],
      "toc_visible": true,
      "authorship_tag": "ABX9TyOFuDaMqc9F6AN+pVgo9ALW"
    },
    "kernelspec": {
      "name": "python3",
      "display_name": "Python 3"
    },
    "language_info": {
      "name": "python"
    }
  },
  "cells": [
    {
      "cell_type": "code",
      "execution_count": 40,
      "metadata": {
        "id": "CjjMxK0Zzm4C"
      },
      "outputs": [],
      "source": [
        "import pandas as pd\n",
        "from sklearn.tree import DecisionTreeClassifier\n",
        "from sklearn.model_selection import train_test_split\n",
        "from sklearn.metrics import accuracy_score\n",
        "import joblib\n",
        "from sklearn import tree\n",
        "\n",
        "#guess music taste according to age and gender\n",
        "\n",
        "#read data\n",
        "dataset = pd.read_csv(\"music.csv\")"
      ]
    },
    {
      "cell_type": "code",
      "source": [
        "#split into input and output set\n",
        "#input set\n",
        "X = dataset.drop(columns=[\"genre\"])\n",
        "#output set\n",
        "y = dataset[\"genre\"]\n",
        "\n",
        "#split data\n",
        "XTrain, XTest, yTrain, yTest = train_test_split(X, y, test_size = 0.2)"
      ],
      "metadata": {
        "id": "fVxgYYzJ0JUn"
      },
      "execution_count": 41,
      "outputs": []
    },
    {
      "cell_type": "code",
      "source": [
        "#create model with decision tree algorithm\n",
        "model = DecisionTreeClassifier()\n",
        "\n",
        "#train model with data\n",
        "model.fit(XTrain, yTrain)\n",
        "\n",
        "#get .dot file for visualizing decision tree\n",
        "tree.export_graphviz(model, out_file = \"musicRecommender.dot\", feature_names = [\"age\", \"gender\"], class_names = sorted(y.unique()), label = \"all\", rounded = True, filled = True)\n",
        "\n",
        "#store model\n",
        "#joblib.dump(model, 'genreRecommender.joblib')\n",
        "\n",
        "#load model example\n",
        "# model = joblib.load('genreRecommender.joblib')\n",
        "\n",
        "#predict for 21 year old male and 22 year old female (not in dataset)\n",
        "predictions = model.predict(XTest)"
      ],
      "metadata": {
        "id": "2nKQWl4N0dQY"
      },
      "execution_count": 42,
      "outputs": []
    },
    {
      "cell_type": "code",
      "source": [
        "accuracy_score(yTest, predictions)"
      ],
      "metadata": {
        "colab": {
          "base_uri": "https://localhost:8080/"
        },
        "id": "0nFVU_u52Pjd",
        "outputId": "30c3a32d-851b-48af-ed74-1bddf58dfe55"
      },
      "execution_count": 43,
      "outputs": [
        {
          "output_type": "execute_result",
          "data": {
            "text/plain": [
              "1.0"
            ]
          },
          "metadata": {},
          "execution_count": 43
        }
      ]
    }
  ]
}